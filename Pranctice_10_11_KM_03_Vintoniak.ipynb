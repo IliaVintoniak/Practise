{
  "nbformat": 4,
  "nbformat_minor": 0,
  "metadata": {
    "colab": {
      "name": "Practice_10-11_KM_01_.ipynb",
      "provenance": [],
      "collapsed_sections": []
    },
    "kernelspec": {
      "name": "python3",
      "display_name": "Python 3"
    }
  },
  "cells": [
    {
      "cell_type": "markdown",
      "metadata": {
        "id": "FMqboNwO4rVs"
      },
      "source": [
        "# **Курс \"Програмування на мові Python\"**\n",
        "\n",
        "##### Викладачі:\n",
        "##### Борисенко Павло Борисович\n",
        "##### Щьоголєв Максим Олегович\n"
      ]
    },
    {
      "cell_type": "markdown",
      "metadata": {
        "id": "A2T6MigL5Z06"
      },
      "source": [
        "## **Практичні зайняття №10-11**\n",
        "\n",
        "### Тема: \"Ітератори та генератори. Декоратори\""
      ]
    },
    {
      "cell_type": "markdown",
      "metadata": {
        "id": "cfCdgK2zXm7e"
      },
      "source": [
        "### **Завдання 1 (2 бали)**\n",
        "\n",
        "Розрахуйте коефієнти розкладу біному Ньютона за допомогою генератора (https://uk.wikipedia.org/wiki/%D0%91%D1%96%D0%BD%D0%BE%D0%BC_%D0%9D%D1%8C%D1%8E%D1%82%D0%BE%D0%BD%D0%B0).\n",
        "\n",
        "1. Степінь многочлена користувач має вводити з клавіатури (невід'ємне ціле число).\n",
        "\n",
        "2. Програма має підраховувати біноміальні коефіцієнти для біномів усіх степенів, починаючи від 0 і закінчуючи тим, який ввів користувач.\n",
        "\n",
        "3. Коефіцієнти мають виводитись у вигляді трикутника Паскаля.\n",
        "\n",
        "Наприклад, якщо користувач введе число 5, програма має вивести результат:\n",
        "\n",
        "1\n",
        "\n",
        "1 1\n",
        "\n",
        "1 2 1\n",
        "\n",
        "1 3 3 1\n",
        "\n",
        "1 4 6 4 1\n",
        "\n",
        "1 5 10 10 5 1\n"
      ]
    },
    {
      "cell_type": "code",
      "metadata": {
        "id": "Bku8v9CjE_Qc"
      },
      "source": [
        "while True:\n",
        "    try:\n",
        "        n = int(input(\"Enter a degree of a polynomial:\\n\"))\n",
        "        if n < 0 and n != int:\n",
        "            raise ValueError\n",
        "        break\n",
        "    except ValueError:\n",
        "        print(\"Enter a positive integer.\")\n",
        "a = [1]\n",
        "print(f\"Binomial coefficients of the {n}:\")\n",
        "for i in range(n+1):\n",
        "    print(*a)\n",
        "    b = [1]\n",
        "    b += [a[j]+a[j+1] for j in range(len(a)-1)] + [1]\n",
        "    a = b\n"
      ],
      "execution_count": null,
      "outputs": []
    },
    {
      "cell_type": "markdown",
      "metadata": {
        "id": "oqXwIz3iuPRe"
      },
      "source": [
        "### **Завдання 2 (4 бали)**\n",
        "\n",
        "Більшість друкованих книг (особливо це стосується книг у твердій палітурці) складаються із зошитів. Припустимо, що в друкарні текст друкується на листах паперу удвічі більших за звичайний книжковий формат. Потім ці листи складаються вдвічі, з них формуються зошити, які потім зшиваються у блок. Зшиті зошити зазвичай складаються з 8, 12 або 16 листів (відповідно 16, 24 або 32 сторінок) кожен.\n",
        "\n",
        "Розглянемо конкретний приклад. \n",
        "\n",
        "Припустимо, що кожен зшитий зошит нашої книги складається з 8 листів (16 сторінок). Якщо уявити великі листи, з яких потім складаються зошити, то на кожному таком листі буде по 4 сторінки книги. У нашій книзі таких великих листів буде 4. Розглянемо перший лист. З одного боку на ньому будуть надруковані сторінки 16 та 1, з іншого - 2 та 15. На другому листі з одного боку будуть надруковані сторінки 14 та 3, з іншого - 4 та 13.\n",
        "\n",
        "**Написати програму, яка визначатиме послідовність сторінок, що будуть надруковані на кожному великому листі.**\n",
        "\n",
        "1. Користувач має вводити з клавіатури три значення: кількість сторінок у книзі (не більше 1280), кількість сторінок у кожному зошиті цієї книги (потрібно буде обрати один з трьох варіантів: 16, 24 або 32) та параметр 0 або 1 (пояснення у п. 5).\n",
        "\n",
        "2. Зверніть увагу на те, що загальна кількість сторінок у книзі має бути кратною кількості сторінок у зошиті. Якщо користувач введе число, що не задовольняє цій умові, програма повинна припинити роботу або запропонувати користувачеві ввесте інше значення. Зауважте також, що 1280 не ділиться на 24.\n",
        "\n",
        "3. Зверніть увагу на те, що на великих листах поворот аркуша відбувається за коротким краєм. Отже, якщо з одного боку аркуша надруковано сторінки 16 та 1, то з іншого 2 та 15 (а не 15, 2), якщо дивитись зліва направо.\n",
        "\n",
        "4. Функція, яка визначатиме послідовність книжкових сторінок, має виводити на екран рядок за рядком номери сторінок кожного зошита, а також кількість зошитів у книзі.\n",
        "\n",
        "5. Створіть функцію-декоратор, яка прийматиме на вхід параметр 0 або 1, конвертований у False або True відповідно, та навісьте його на попередню функцію. Якщо параметр дорівнює False, додаткові функції декоратора не повинні виконуватись, тобто має виконатись лише функція з п. 4. Декоратор повинен створювати список усіх сторінок у потрібній послідовності, причому номери сторінок кожного зошита мають зберігатись в окремому вкладеному списку. Для 16-сторінкового зошита список повинен мати вигляд:\n",
        "\n",
        "`[[16, 1, 2, 15, 14, 3, 4, 13, ..., 10, 7, 8, 9], [32, 17, 18, 31, ...], ... ]`\n",
        "\n",
        "**Бонусне завдання (за бажанням)**\n",
        "\n",
        "6. Замість функції з п. 4 створіть генератор, який буде визначати послідовність книжкових сторінок для кожного зошита. Ці рядки можна потім вивести або у циклі, або за допомогою функції next(). Функція-декоратор має працювати з цим генератором так само, як і зі звичайною функцією."
      ]
    },
    {
      "cell_type": "code",
      "metadata": {
        "id": "yiRr2CqMWxLA"
      },
      "source": [
        "def checker1(text):\n",
        "    val = input(text)\n",
        "    while type(val) != int:\n",
        "        try:\n",
        "            if int(val) > 1280 or int(val) < 1:\n",
        "                val = \"a\"\n",
        "            val = int(val)\n",
        "        except:\n",
        "            val = input(\"Enter a number of book pages (1-1280):\\n\")\n",
        "    return int(val)\n",
        "\n",
        "\n",
        "def checker2(text):\n",
        "    val = input(text)\n",
        "    while type(val) != int:\n",
        "        try:\n",
        "            if int(val) != 16 and int(val) != 24 and int(val) != 32:\n",
        "                val = \"a\"\n",
        "            val = int(val)\n",
        "        except:\n",
        "            val = input(\"Enter a number of pages of each notebook(16, 24 or 32):\\n\")\n",
        "    return int(val)\n",
        "\n",
        "\n",
        "def checker3(text):\n",
        "    val = input(text)\n",
        "    while type(val) != int:\n",
        "        try:\n",
        "            if int(val) != 1 and int(val) != 0:\n",
        "                val = \"a\"\n",
        "            val = int(val)\n",
        "        except:\n",
        "            val = input(\"Enter 1 or 0:\\n\")\n",
        "    return int(val)\n",
        "\n",
        "\n",
        "while True:\n",
        "    try:\n",
        "        book = checker1(\"Enter a number of book pages(no more than 1280):\\n\")\n",
        "        notebook = checker2(\"Enter a number of pages of each notebook(16, 24 or 32):\\n\")\n",
        "        parameter = checker3(\"Enter 1 for using an additional function or 0 for otherwise:\\n\")\n",
        "        if book % notebook != 0:\n",
        "            raise ValueError\n",
        "        break\n",
        "    except ValueError:\n",
        "        print(\"A number of book pages have to be multiple of a number of notebook pages.\")\n",
        "if parameter == 1:\n",
        "    parameter = True\n",
        "else:\n",
        "    parameter = False\n",
        "\n",
        "a = [i for i in range(1, notebook + 1)]\n",
        "\n",
        "\n",
        "def books():\n",
        "    notebooks = int(book / notebook)\n",
        "    print(f\"The number of notebooks in the book is {notebooks}.\")\n",
        "    list_of_notebooks = []\n",
        "    for j in range(notebooks):\n",
        "        a = j * notebook\n",
        "        a = [i for i in range(a + 1, notebook + a + 1)]\n",
        "        b = []\n",
        "        k = notebook / 2 - 1\n",
        "        for i in range(0, int(k), 2):\n",
        "            b += [a[-i - 1], a[i], a[i + 1], a[-i - 2]]\n",
        "        list_of_notebooks.append(b)\n",
        "    return list_of_notebooks\n",
        "\n",
        "\n",
        "def parameter_(parameter, func):\n",
        "    def additional_list(func):\n",
        "        print(func)\n",
        "\n",
        "    if parameter:\n",
        "        return additional_list(func)\n",
        "    return print(*func, sep=\"\\n\")\n",
        "\n",
        "\n",
        "parameter_(parameter, books())\n"
      ],
      "execution_count": null,
      "outputs": []
    }
  ]
}