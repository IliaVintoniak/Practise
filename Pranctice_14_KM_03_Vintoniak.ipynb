{
  "nbformat": 4,
  "nbformat_minor": 0,
  "metadata": {
    "colab": {
      "name": "Practice_14_KM_01.ipynb",
      "provenance": [],
      "collapsed_sections": []
    },
    "kernelspec": {
      "name": "python3",
      "display_name": "Python 3.7.9 64-bit",
      "metadata": {
        "interpreter": {
          "hash": "b59d307e10940980755abaff491409e7c904fa8ed5d4cf8988e564788863e1d5"
        }
      }
    }
  },
  "cells": [
    {
      "cell_type": "markdown",
      "metadata": {
        "id": "FMqboNwO4rVs"
      },
      "source": [
        "# **Курс \"Програмування на мові Python\"**\n",
        "\n",
        "##### Викладачі:\n",
        "##### Борисенко Павло Борисович\n",
        "##### Щьоголєв Максим Олегович\n"
      ]
    },
    {
      "cell_type": "markdown",
      "metadata": {
        "id": "A2T6MigL5Z06"
      },
      "source": [
        "## **Практичне зайняття №14**\n",
        "\n",
        "### Тема: \"Робота з файлами\""
      ]
    },
    {
      "cell_type": "markdown",
      "metadata": {
        "id": "cfCdgK2zXm7e"
      },
      "source": [
        "### **Завдання 1 (1,5 бали)**\n",
        "\n",
        "У 1939 році друком вийшов роман американського письменика Ернеста Вінсента Райта \"Ґетсбі\". Особливу увагу публіки він здобув через те, що письменник жодного разу не використав у романі літеру \"e\" (роман складається з більше ніж 50,000 слів), яка є найбільш вживаною літерою в англійській мові.\n",
        "\n",
        "Порахуйте кількість входжень кожної літери у текст роману. Виведіть список літер англійського алфавіту, а також інформацію про те, скільки відсотків від усіх літер тексту складає кожна літера алфавіту.\n",
        "\n",
        "Зауваження:\n",
        "\n",
        "1. Програма має ігнорувати будь-які символи, окрім літер.\n",
        "\n",
        "2. Переведіть усі літери у верхній або у нижній регістр.\n",
        "\n",
        "3. Під час виведення відсортуйте літери у порядку зменшення їхнього відсотка. Літера \"e\" має стояти на останньому місці у цьому списку.\n",
        "\n",
        "4. Виведіть перші 5 та останні 5 літер відсортованого списку разом з відсотковими значеннями, що їм відповідають."
      ]
    },
    {
      "cell_type": "code",
      "metadata": {
        "tags": [],
        "id": "u4-fHJJ6U462"
      },
      "source": [
        "import string\n",
        "\n",
        "list_of_amounts = []\n",
        "all_letters = 0\n",
        "list_of_percents = []\n",
        "\n",
        "for i in string.ascii_lowercase:\n",
        "    amount_of_letter = 0\n",
        "    file = open(\"gadsby.txt\")\n",
        "    for line in file:\n",
        "        line = line.lower()\n",
        "        amount_of_letter += line.count(i)\n",
        "    list_of_amounts.append(amount_of_letter)\n",
        "    all_letters += amount_of_letter\n",
        "    file.close()\n",
        "\n",
        "for i in range(len(list_of_amounts)):\n",
        "    a = round(list_of_amounts[i] * 100 / all_letters, 2)\n",
        "    list_of_percents.append(a)\n",
        "\n",
        "sorted_list_of_percents = sorted(list_of_percents, reverse=True)\n",
        "\n",
        "print(\"The first five letters of the sorted list:\")\n",
        "for i in range(0, 5):\n",
        "    ind = list_of_percents.index(sorted_list_of_percents[i])\n",
        "    print(f\"{string.ascii_lowercase[ind]} - {sorted_list_of_percents[i]}%\")\n",
        "\n",
        "print(\"The last five letters of the sorted list:\")\n",
        "for i in range(-6, -1):\n",
        "    ind = list_of_percents.index(sorted_list_of_percents[i])\n",
        "    print(f\"{string.ascii_lowercase[ind]} - {sorted_list_of_percents[i]}%\")\n"
      ],
      "execution_count": 1,
      "outputs": [
        {
          "output_type": "stream",
          "name": "stdout",
          "text": [
            "The first five letters of the sorted list:\na - 10.89%\no - 10.37%\ni - 8.79%\nn - 8.56%\nt - 8.53%\nThe last five letters of the sorted list:\nv - 0.34%\ne - 0.23%\nj - 0.22%\nz - 0.11%\nx - 0.08%\n"
          ]
        }
      ]
    },
    {
      "cell_type": "markdown",
      "metadata": {
        "id": "A34oz70eU463"
      },
      "source": [
        "### **Завдання 2 (1,5 бали)**\n",
        "\n",
        "Створіть CSV-файл, що буде містити від 5 до 10 пісень (творів) вашого улюбленого музиканта. Назва файлу - ім'я музиканта (композитора) або назва гурту.\n",
        "\n",
        "1. Обов'язково додайте до файлу рядок з назвами двох колонок (Song, Year) або (Composition, Year).\n",
        "\n",
        "2. Після запису файлу роздрукуйте назву файлу та усі наявні у файлі рядки (включно із заголовками).\n",
        "\n",
        "3. Для запису та зчитування рядків скористайтесь функціями csv.DictWriter() та csv.DictReader()."
      ]
    },
    {
      "cell_type": "code",
      "metadata": {
        "id": "MEJIrG1GU463"
      },
      "source": [
        "import csv\n",
        "\n",
        "with open(\"dieantwoord.csv\", \"w\", newline=\"\") as csvfile:\n",
        "    fieldnames = [\"Song\", \"Year\"]\n",
        "    writer = csv.DictWriter(csvfile, fieldnames=fieldnames)\n",
        "    writer.writeheader()\n",
        "    writer.writerow({\"Song\": \"Beat Boy\",\n",
        "                     \"Year\": \"2009\"})\n",
        "    writer.writerow({\"Song\": \"Enter the Ninja\",\n",
        "                     \"Year\": \"2010\"})\n",
        "    writer.writerow({\"Song\": \"I Fink U Freeky\",\n",
        "                     \"Year\": \"2011\"})\n",
        "    writer.writerow({\"Song\": \"Baby's on Fire\",\n",
        "                     \"Year\": \"2012\"})\n",
        "    writer.writerow({\"Song\": \"Pitbull Terrier\",\n",
        "                     \"Year\": \"2014\"})\n",
        "    writer.writerow({\"Song\": \"Ugly Boy\",\n",
        "                     \"Year\": \"2014\"})\n",
        "    writer.writerow({\"Song\": \"Banana Brain\",\n",
        "                     \"Year\": \"2016\"})\n",
        "\n",
        "with open('dieantwoord.csv', newline='') as csvfile:\n",
        "    reader = csv.DictReader(csvfile)\n",
        "    for heading in reader.fieldnames:\n",
        "        print(heading, end=' ')\n",
        "    print(\"\\n-----------------------\")\n",
        "    for row in reader:\n",
        "        print(row[\"Song\"], \"|\", row[\"Year\"])\n"
      ],
      "execution_count": 2,
      "outputs": [
        {
          "output_type": "stream",
          "name": "stdout",
          "text": [
            "Song Year \n-----------------------\nBeat Boy | 2009\nEnter the Ninja | 2010\nI Fink U Freeky | 2011\nBaby's on Fire | 2012\nPitbull Terrier | 2014\nUgly Boy | 2014\nBanana Brain | 2016\n"
          ]
        }
      ]
    },
    {
      "cell_type": "markdown",
      "metadata": {
        "id": "Jb-eSBsWU464"
      },
      "source": [
        "### **Завдання 3 (бонусне, 1 бал)**\n",
        "\n",
        "COCO Dataset - набір фотографій та анотацій до них. Його дуже часто використовують для тренування класифікаторів, призначених для розпізнавання об'єктів та визначення ключових точок на зображеннях.\n",
        "\n",
        "Завантажте файли з описом фотографій COCO Dataset за посиланням: http://images.cocodataset.org/annotations/image_info_test2017.zip\n",
        "\n",
        "1. Відкрийте файл image_info_test-dev2017.json. Інформація про фотографії з бази COCO міститься у полі \"images\". Інформація про категорії, на які розділені всі фотографії, міститься у полі \"categories\".\n",
        "\n",
        "2. Визначте кількість фотографій, інформацію про які можна знайти у цьому файлі (кількість елементів, що відповідають ключу \"images\").\n",
        "\n",
        "3. Визначте кількість наявних категорій (кількість елементів, що відповідають ключу \"categories\").\n",
        "\n",
        "4. Виведіть посилання на фотографію 000000000001.jpg (\"coco_url\"), висоту цієї фотографії (\"height\"), ширину (\"width\") та її ідентифікатор (\"id\").\n",
        "\n",
        "5. Опис структури JSON-файлу для набору фотографій COCO можна знайти за посиланням: https://cocodataset.org/#format-data\n",
        "\n",
        "6. Щоб перевірити правильність результатів, у VS Code встановіть розширення JSON та відкрийте файл image_info_test-dev2017.json. Розширення автоматично визначає кількість елементів у кожному полі."
      ]
    },
    {
      "cell_type": "code",
      "metadata": {
        "id": "74C6WKB_U464"
      },
      "source": [
        "import json\n",
        "\n",
        "with open(\"image_info_test2017.json\") as f:\n",
        "    data = json.load(f)\n",
        "print(f\"Amount of photos, information about which can be found in the file:\\n{len(data['images'])}\")\n",
        "print(f\"Amount of obvious categories for a file:\\n{len(data['categories'])}\")\n",
        "\n",
        "print(\"Information for '000000000001.jpg':\")\n",
        "for el in data['images']:\n",
        "    if el['file_name'] == '000000000001.jpg':\n",
        "        print(f\"Url:\\n{el['coco_url']}\")\n",
        "        print(f\"Height:\\n{el['height']}\")\n",
        "        print(f\"Width:\\n{el['width']}\")\n",
        "        print(f\"Id:\\n{el['id']}\")\n"
      ],
      "execution_count": 3,
      "outputs": [
        {
          "output_type": "stream",
          "name": "stdout",
          "text": [
            "Amount of photos, information about which can be found in the file:\n40670\nAmount of obvious categories for a file:\n80\nInformation for '000000000001.jpg':\nUrl:\nhttp://images.cocodataset.org/test2017/000000000001.jpg\nHeight:\n480\nWidth:\n640\nId:\n1\n"
          ]
        }
      ]
    }
  ]
}